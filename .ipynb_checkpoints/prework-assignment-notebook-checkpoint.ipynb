{
 "cells": [
  {
   "cell_type": "markdown",
   "metadata": {},
   "source": [
    "# Prework Assignment"
   ]
  },
  {
   "cell_type": "markdown",
   "metadata": {},
   "source": [
    "### General Background Questions"
   ]
  },
  {
   "cell_type": "markdown",
   "metadata": {},
   "source": [
    "1. Why is version control important in science?"
   ]
  },
  {
   "cell_type": "code",
   "execution_count": 1,
   "metadata": {},
   "outputs": [],
   "source": [
    "# Version control allows users to track the changes they make so they can be recalled in the future. It is important in science because reliable scientific results are founded upon reproducibility, meaning others are able to get the same results as you by carefully following your methodology. Version control provides that detailed tracking of your methods so others can verify the validity and reliability of your findings. "
   ]
  },
  {
   "cell_type": "markdown",
   "metadata": {},
   "source": [
    "2. What kind of research artifacts can we track with Git?"
   ]
  },
  {
   "cell_type": "code",
   "execution_count": 1,
   "metadata": {},
   "outputs": [],
   "source": [
    "# Manuscripts, notes, data sets, statistical codes and figures can be tracked with Git. "
   ]
  },
  {
   "cell_type": "markdown",
   "metadata": {},
   "source": [
    "3. What are the three main things that can go wrong in a data science project?"
   ]
  },
  {
   "cell_type": "code",
   "execution_count": 1,
   "metadata": {},
   "outputs": [],
   "source": [
    "# 1. There isn't the kind of data you require 2. the model is wrong or the data is insignificant 3. solving for the wrong problem"
   ]
  },
  {
   "cell_type": "markdown",
   "metadata": {},
   "source": [
    "### Python Background Questions"
   ]
  },
  {
   "cell_type": "markdown",
   "metadata": {},
   "source": [
    "These short exercises are a way to familiarize yourself with python. If you find these exercises too difficult, don’t worry! We will review the basics the first day to make sure we are all comfortable coding in Python.\n",
    "\n",
    "Please save your work in this document and `git push` them to the `prework-assignment` repo.\n",
    "\n",
    "----------------------------------------------------------------"
   ]
  },
  {
   "cell_type": "markdown",
   "metadata": {},
   "source": [
    "### Problem 1: Basic Operations"
   ]
  },
  {
   "cell_type": "markdown",
   "metadata": {},
   "source": [
    "You are at Vanessa's Vegan Cafe and you loved it so much you wanna leave a tip. Write a function that takes the amount owed and calculates how much money you pay with an 18% tip. If functions still scare you, just the solution code will do."
   ]
  },
  {
   "cell_type": "code",
   "execution_count": 19,
   "metadata": {},
   "outputs": [],
   "source": [
    "# accepts amount owed before tip\n",
    "def tip(amt_owed):\n",
    "    total_owed = float(amt_owed) + (0.18 * float(amt_owed))\n",
    "    return('The total amount owed is ' + str(total_owed) + '.')"
   ]
  },
  {
   "cell_type": "markdown",
   "metadata": {},
   "source": [
    "----------------------------------------------------------------"
   ]
  },
  {
   "cell_type": "code",
   "execution_count": 20,
   "metadata": {},
   "outputs": [
    {
     "data": {
      "text/plain": [
       "'The total amount owed is 11.8.'"
      ]
     },
     "execution_count": 20,
     "metadata": {},
     "output_type": "execute_result"
    }
   ],
   "source": [
    "total_owed = tip(10)\n",
    "total_owed"
   ]
  },
  {
   "cell_type": "markdown",
   "metadata": {},
   "source": [
    "### Problem 2: Lists"
   ]
  },
  {
   "cell_type": "markdown",
   "metadata": {},
   "source": [
    "I have a fortune cookie that says my lucky numbers are:\n",
    "\n",
    "       [23, 54, 6, 8, 10078, 3]\n",
    "\n",
    "Write a function that returns 3 lists (if functions still scare you, just the solution code will do)\n",
    "   - replace the number 6 with 1\n",
    "   - the above list in decreasing order\n",
    "   - all values greater than 15"
   ]
  },
  {
   "cell_type": "code",
   "execution_count": 31,
   "metadata": {},
   "outputs": [],
   "source": [
    "# accepts list with fortune cookie lucky numbers\n",
    "def cookies(cookie):\n",
    "    \n",
    "    # creates a new list, cookie1, that replaces 6 with 1\n",
    "    cookie1 = cookie.copy() \n",
    "    cookie1[2]= 1 \n",
    "\n",
    "    # creates a new list, cookie2, that sorts cookie in decreasing order\n",
    "    cookie2 = cookie.copy()\n",
    "    cookie2.sort(reverse=True) \n",
    "\n",
    "    # creates a new list, cookie3, with all values in cookie greater than 15\n",
    "    cookie3 = []\n",
    "    for i in cookie:\n",
    "        if i > 15:\n",
    "            cookie3.append(i)\n",
    "            \n",
    "    #returns all modified lists\n",
    "    return(cookie1, cookie2, cookie3) "
   ]
  },
  {
   "cell_type": "code",
   "execution_count": 32,
   "metadata": {},
   "outputs": [
    {
     "name": "stdout",
     "output_type": "stream",
     "text": [
      "[23, 54, 1, 8, 10078, 3]\n",
      "[10078, 54, 23, 8, 6, 3]\n",
      "[23, 54, 10078]\n"
     ]
    }
   ],
   "source": [
    "a,b,c = cookies([23, 54, 6, 8, 10078, 3])\n",
    "print(a)\n",
    "print(b)\n",
    "print(c)"
   ]
  },
  {
   "cell_type": "markdown",
   "metadata": {},
   "source": [
    "----------------------------------------------------------------"
   ]
  },
  {
   "cell_type": "markdown",
   "metadata": {},
   "source": [
    "### Problem 3: Basic Operations"
   ]
  },
  {
   "cell_type": "markdown",
   "metadata": {},
   "source": [
    "Let's now take the first step in coding some real data science. Write a statement that loads the `numpy` library into the interpreter and gives it an alias of `np`."
   ]
  },
  {
   "cell_type": "code",
   "execution_count": 1,
   "metadata": {},
   "outputs": [],
   "source": [
    "import numpy as np"
   ]
  },
  {
   "cell_type": "markdown",
   "metadata": {},
   "source": [
    "----------------------------------------------------------------"
   ]
  },
  {
   "cell_type": "markdown",
   "metadata": {},
   "source": [
    "# Problem 4: Numpy"
   ]
  },
  {
   "cell_type": "markdown",
   "metadata": {},
   "source": [
    "Generated a 10x10 `numpy` array with random numbers and slice the array to get the 2nd and 3rd column. Also calculate the average of 6th column using `numpy`."
   ]
  },
  {
   "cell_type": "code",
   "execution_count": 46,
   "metadata": {
    "scrolled": true
   },
   "outputs": [
    {
     "name": "stdout",
     "output_type": "stream",
     "text": [
      "[[71 32 28 71 79 25 87 33 35 25]\n",
      " [67 55 59 47 47  4 46 16 74 42]\n",
      " [44  0 46 55 16 49 61 19 95 29]\n",
      " [97 20 27 34 32  4  8 42 43 80]\n",
      " [43 63 26 19 58 78 33 83 67 90]\n",
      " [ 8 30 40 11 75 88 62 76 97 48]\n",
      " [63 14 93 43 53 28 15 72 45 12]\n",
      " [25 95 28 14 28 94 60 75 47 99]\n",
      " [37 31 61 71 47 93 24 48 14 60]\n",
      " [83  7 65 50 87 58 78 36 28 27]]\n",
      "[[32 28]\n",
      " [55 59]\n",
      " [ 0 46]\n",
      " [20 27]\n",
      " [63 26]\n",
      " [30 40]\n",
      " [14 93]\n",
      " [95 28]\n",
      " [31 61]\n",
      " [ 7 65]]\n",
      "52.1\n"
     ]
    }
   ],
   "source": [
    "# generate a 10x10 'numpy' array of random integers in the interval [0,100)\n",
    "import numpy as np\n",
    "array = np.random.randint(0,100, (10,10))\n",
    "print(array)\n",
    "\n",
    "# slice the array to get 2nd and 3rd column\n",
    "arrayslice = array[:10,1:3]\n",
    "print(arrayslice)\n",
    "\n",
    "col_avg = np.mean(array, axis=0)\n",
    "print(col_avg[5])"
   ]
  },
  {
   "cell_type": "markdown",
   "metadata": {},
   "source": [
    "----------------------------------------------------------------"
   ]
  },
  {
   "cell_type": "markdown",
   "metadata": {},
   "source": [
    "##### That's it! We look forward to seeing you in class!"
   ]
  }
 ],
 "metadata": {
  "kernelspec": {
   "display_name": "Python 3",
   "language": "python",
   "name": "python3"
  },
  "language_info": {
   "codemirror_mode": {
    "name": "ipython",
    "version": 3
   },
   "file_extension": ".py",
   "mimetype": "text/x-python",
   "name": "python",
   "nbconvert_exporter": "python",
   "pygments_lexer": "ipython3",
   "version": "3.7.3"
  }
 },
 "nbformat": 4,
 "nbformat_minor": 2
}
